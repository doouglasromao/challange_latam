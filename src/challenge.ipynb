{
 "cells": [
  {
   "cell_type": "markdown",
   "metadata": {},
   "source": [
    "En este archivo puedes escribir lo que estimes conveniente. Te recomendamos detallar tu solución y todas las suposiciones que estás considerando. Aquí puedes ejecutar las funciones que definiste en los otros archivos de la carpeta src, medir el tiempo, memoria, etc."
   ]
  },
  {
   "cell_type": "code",
   "execution_count": 1,
   "metadata": {},
   "outputs": [],
   "source": [
    "# Space to import all libs necessaries\n",
    "import cProfile\n",
    "import os\n",
    "from q1_time import q1_time\n",
    "from q1_memory import q1_memory\n",
    "\n",
    "# Custom functions\n",
    "import functions"
   ]
  },
  {
   "cell_type": "markdown",
   "metadata": {},
   "source": [
    "# download file from google drive"
   ]
  },
  {
   "cell_type": "code",
   "execution_count": 2,
   "metadata": {},
   "outputs": [],
   "source": [
    "file_name = \"farmers-protest-tweets-2021-2-4.json\"\n",
    "file_path = f\"files/{file_name}\""
   ]
  },
  {
   "cell_type": "code",
   "execution_count": 3,
   "metadata": {},
   "outputs": [],
   "source": [
    "if not os.path.exists(file_path):\n",
    "    # URL of the ZIP file hosted on Google Drive\n",
    "    url = 'https://drive.usercontent.google.com/download?id=1ig2ngoXFTxP5Pa8muXo02mDTFexZzsis&export=download&authuser=0&confirm=t&uuid=fd997cbf-ccdd-4e37-a53d-2b46ed1de3ae&at=APZUnTW5jfpb41xGjhafvdL1BkT8%3A1710960678452'\n",
    "    \n",
    "    # download json from gdrive\n",
    "    functions.gdrive_download(url, 'files')"
   ]
  },
  {
   "cell_type": "code",
   "execution_count": 4,
   "metadata": {},
   "outputs": [
    {
     "data": {
      "text/plain": [
       "[(datetime.date(2021, 2, 12), 'RanbirS00614606'),\n",
       " (datetime.date(2021, 2, 13), 'MaanDee08215437'),\n",
       " (datetime.date(2021, 2, 17), 'RaaJVinderkaur'),\n",
       " (datetime.date(2021, 2, 16), 'jot__b'),\n",
       " (datetime.date(2021, 2, 14), 'rebelpacifist'),\n",
       " (datetime.date(2021, 2, 18), 'neetuanjle_nitu'),\n",
       " (datetime.date(2021, 2, 15), 'jot__b'),\n",
       " (datetime.date(2021, 2, 20), 'MangalJ23056160'),\n",
       " (datetime.date(2021, 2, 23), 'Surrypuria'),\n",
       " (datetime.date(2021, 2, 19), 'Preetm91')]"
      ]
     },
     "execution_count": 4,
     "metadata": {},
     "output_type": "execute_result"
    }
   ],
   "source": [
    "q1_time(file_path)"
   ]
  },
  {
   "cell_type": "code",
   "execution_count": 5,
   "metadata": {},
   "outputs": [
    {
     "name": "stdout",
     "output_type": "stream",
     "text": [
      "         4561067 function calls in 8.386 seconds\n",
      "\n",
      "   Ordered by: standard name\n",
      "\n",
      "   ncalls  tottime  percall  cumtime  percall filename:lineno(function)\n",
      "        1    0.001    0.001    8.386    8.386 <string>:1(<module>)\n",
      "   117407    0.150    0.000    3.577    0.000 __init__.py:299(loads)\n",
      "   117407    0.067    0.000    0.587    0.000 _strptime.py:26(_getlang)\n",
      "   117407    1.539    0.000    2.603    0.000 _strptime.py:309(_strptime)\n",
      "   117407    0.342    0.000    2.945    0.000 _strptime.py:565(_strptime_datetime)\n",
      "        1    0.000    0.000    0.000    0.000 codecs.py:260(__init__)\n",
      "        1    0.000    0.000    0.000    0.000 codecs.py:309(__init__)\n",
      "    49772    0.052    0.000    0.127    0.000 codecs.py:319(decode)\n",
      "   117407    0.233    0.000    3.383    0.000 decoder.py:332(decode)\n",
      "   117407    2.980    0.000    2.980    0.000 decoder.py:343(raw_decode)\n",
      "   117407    0.120    0.000    0.164    0.000 locale.py:386(normalize)\n",
      "   117407    0.064    0.000    0.227    0.000 locale.py:469(_parse_localename)\n",
      "   117407    0.090    0.000    0.520    0.000 locale.py:577(getlocale)\n",
      "       13    0.000    0.000    0.000    0.000 q1_time.py:18(<lambda>)\n",
      "       13    0.000    0.000    0.000    0.000 q1_time.py:35(<lambda>)\n",
      "        1    0.000    0.000    0.000    0.000 q1_time.py:35(<listcomp>)\n",
      "        1    1.612    1.612    8.385    8.385 q1_time.py:6(q1_time)\n",
      "    49772    0.075    0.000    0.075    0.000 {built-in method _codecs.utf_8_decode}\n",
      "   117407    0.203    0.000    0.203    0.000 {built-in method _locale.setlocale}\n",
      "        1    0.000    0.000    8.386    8.386 {built-in method builtins.exec}\n",
      "   352221    0.035    0.000    0.035    0.000 {built-in method builtins.isinstance}\n",
      "   587035    0.061    0.000    0.061    0.000 {built-in method builtins.len}\n",
      "       10    0.002    0.000    0.002    0.000 {built-in method builtins.max}\n",
      "        1    0.000    0.000    0.000    0.000 {built-in method builtins.sorted}\n",
      "        1    0.001    0.001    0.001    0.001 {built-in method io.open}\n",
      "   117407    0.104    0.000    3.048    0.000 {built-in method strptime}\n",
      "        1    0.000    0.000    0.000    0.000 {method '__exit__' of '_io._IOBase' objects}\n",
      "   117407    0.022    0.000    0.022    0.000 {method '__exit__' of '_thread.lock' objects}\n",
      "       10    0.000    0.000    0.000    0.000 {method 'append' of 'list' objects}\n",
      "   117407    0.018    0.000    0.018    0.000 {method 'date' of 'datetime.datetime' objects}\n",
      "        1    0.000    0.000    0.000    0.000 {method 'disable' of '_lsprof.Profiler' objects}\n",
      "   352221    0.048    0.000    0.048    0.000 {method 'end' of 're.Match' objects}\n",
      "   352221    0.058    0.000    0.058    0.000 {method 'get' of 'dict' objects}\n",
      "   117407    0.107    0.000    0.107    0.000 {method 'groupdict' of 're.Match' objects}\n",
      "        1    0.000    0.000    0.000    0.000 {method 'items' of 'dict' objects}\n",
      "   117407    0.020    0.000    0.020    0.000 {method 'keys' of 'dict' objects}\n",
      "   117407    0.019    0.000    0.019    0.000 {method 'lower' of 'str' objects}\n",
      "   352221    0.260    0.000    0.260    0.000 {method 'match' of 're.Pattern' objects}\n",
      "   234814    0.060    0.000    0.060    0.000 {method 'startswith' of 'str' objects}\n",
      "   234814    0.029    0.000    0.029    0.000 {method 'toordinal' of 'datetime.date' objects}\n",
      "   117407    0.015    0.000    0.015    0.000 {method 'weekday' of 'datetime.date' objects}\n",
      "\n",
      "\n"
     ]
    }
   ],
   "source": [
    "cProfile.run('q1_time(file_path)')"
   ]
  },
  {
   "cell_type": "code",
   "execution_count": 6,
   "metadata": {},
   "outputs": [
    {
     "data": {
      "text/plain": [
       "[(datetime.date(2021, 2, 12), 'RanbirS00614606'),\n",
       " (datetime.date(2021, 2, 13), 'MaanDee08215437'),\n",
       " (datetime.date(2021, 2, 17), 'RaaJVinderkaur'),\n",
       " (datetime.date(2021, 2, 16), 'jot__b'),\n",
       " (datetime.date(2021, 2, 14), 'rebelpacifist'),\n",
       " (datetime.date(2021, 2, 18), 'neetuanjle_nitu'),\n",
       " (datetime.date(2021, 2, 15), 'jot__b'),\n",
       " (datetime.date(2021, 2, 20), 'MangalJ23056160'),\n",
       " (datetime.date(2021, 2, 23), 'Surrypuria'),\n",
       " (datetime.date(2021, 2, 19), 'Preetm91')]"
      ]
     },
     "execution_count": 6,
     "metadata": {},
     "output_type": "execute_result"
    }
   ],
   "source": [
    "q1_memory(file_path)"
   ]
  },
  {
   "cell_type": "code",
   "execution_count": 9,
   "metadata": {},
   "outputs": [
    {
     "name": "stdout",
     "output_type": "stream",
     "text": [
      "list memory usage in q1_memory (in MB): [87.6015625, 87.609375, 88.125, 88.1953125, 88.234375, 88.41796875, 88.4765625, 88.6171875, 88.79296875, 88.83203125, 88.8359375, 88.859375, 88.91015625, 88.96484375, 89.10546875, 89.125, 89.16796875, 89.22265625, 89.2265625, 89.25390625, 89.26171875, 89.28515625, 89.28515625, 89.2890625, 89.296875, 89.296875, 89.046875, 89.05078125, 89.05078125, 89.0546875, 89.05859375, 89.05859375, 89.05859375, 89.05859375, 89.05859375, 89.05859375, 89.05859375, 89.05859375, 89.05859375, 89.05859375, 89.1171875, 89.28515625, 89.296875, 89.328125, 89.359375, 89.37109375, 89.3984375, 89.4140625, 89.41796875, 89.41796875, 89.41796875, 89.41796875, 89.4296875, 89.4296875, 89.4296875, 89.4296875, 89.4296875, 89.4296875, 89.4296875, 89.5390625, 89.5625, 89.5625, 88.8984375, 89.0390625, 89.1015625, 89.1640625, 89.2421875, 89.41015625, 89.41015625, 89.421875, 89.42578125, 89.4921875, 89.53515625, 89.5546875, 89.55859375, 89.56640625, 89.56640625, 89.56640625, 89.62109375, 89.65625, 89.66796875, 89.66796875, 89.6875, 89.6875, 89.6953125, 89.703125, 89.71484375, 89.71875, 89.71875, 89.71875, 89.71875, 89.71875, 89.77734375, 89.7890625, 89.7890625, 89.79296875, 89.79296875, 89.796875, 89.796875, 89.83984375, 89.83984375, 89.83984375, 89.83984375, 89.84375, 89.8515625, 89.8515625, 89.8515625, 89.8515625, 89.85546875, 89.86328125, 89.86328125, 89.86328125, 89.86328125, 89.86328125, 89.93359375, 89.93359375, 89.93359375, 89.93359375, 89.97265625, 89.9765625, 89.9765625, 89.9765625, 89.9765625, 89.9765625, 89.9765625, 90.078125, 90.125, 90.125, 90.1328125, 90.13671875, 90.23828125, 90.25, 90.26171875, 90.265625, 90.265625, 90.265625, 90.515625, 90.515625, 90.515625, 90.515625, 90.515625, 90.53515625, 90.53515625, 90.53515625, 90.53515625, 90.53515625, 90.765625, 90.765625, 90.765625, 90.765625, 90.765625, 90.765625, 90.765625, 90.765625, 90.765625, 90.765625, 90.765625, 90.765625, 90.875, 90.875, 90.875, 90.875, 90.875, 90.875, 90.875, 90.875, 90.875, 90.97265625, 91.02734375, 91.1171875, 91.18359375, 91.18359375, 91.18359375, 91.30859375, 91.30859375, 91.30859375, 91.30859375, 91.30859375, 91.76171875, 91.77734375, 88.83203125]\n",
      "sum memory usage in q1_memory (in MB): 16254.56640625\n",
      "list memory usage in q1_time (in MB): [88.5859375, 88.5859375, 88.703125, 88.828125, 88.9765625, 89.171875, 89.2109375, 89.3671875, 89.3671875, 89.40234375, 89.453125, 89.4765625, 89.50390625, 89.59375, 89.7734375, 89.77734375, 89.8125, 89.86328125, 89.97265625, 89.984375, 90.1328125, 90.296875, 90.34375, 90.3671875, 90.37109375, 90.39453125, 90.39453125, 90.44140625, 90.453125, 90.4765625, 90.4765625, 90.53125, 90.54296875, 90.75390625, 90.75390625, 90.81640625, 90.81640625, 90.8203125, 90.8203125, 90.85546875, 90.85546875, 90.90234375, 90.953125, 90.9609375, 91.125, 91.1328125, 91.1328125, 91.1328125, 91.17578125, 91.1796875, 91.1953125, 91.1953125, 91.1953125, 91.203125, 91.23828125, 91.2421875, 91.2421875, 91.2421875, 91.24609375, 91.26953125, 91.26953125, 91.26953125, 91.26953125, 91.26953125, 91.58984375, 89.12890625]\n",
      "sum memory usage in q1_time (in MB): 5966.88671875\n"
     ]
    }
   ],
   "source": [
    "from memory_profiler import memory_usage\n",
    "\n",
    "mem_usage = memory_usage((q1_memory, (file_path,)))\n",
    "print('list memory usage in q1_memory (in MB):', mem_usage)\n",
    "print('sum memory usage in q1_memory (in MB):', sum(mem_usage))\n",
    "\n",
    "mem_usage = memory_usage((q1_time, (file_path,)))\n",
    "print('list memory usage in q1_time (in MB):', mem_usage)\n",
    "print('sum memory usage in q1_time (in MB):', sum(mem_usage))"
   ]
  },
  {
   "cell_type": "markdown",
   "metadata": {},
   "source": [
    "Después de analizar el resultado del consumo de memoria, pude ver que usar la biblioteca ijson no trajo tantos beneficios en este caso que probamos con la biblioteca json debido al formato del archivo. Y fíjate que durante todo el proceso utilizamos más memoria para llegar al final de este.\n",
    "\n",
    "La biblioteca ijson se creó para leer un archivo iterando sobre las líneas, pero aquí, debido al formato de archivo disponible, ya necesitaba hacer esto usando la biblioteca json, ya que cada línea del archivo es un elemento json completo, que crea el tipo de archivo de varias líneas.\n",
    "\n",
    "Nota: Intenté usar pandas para analizar los resultados pero siempre me llevó más de 1 minuto.\n",
    "\n",
    "Es posible que ir a la nube y usar spark para el procesamiento distribuido sea más ventajoso y sencillo que aplicar la lógica de las funciones anteriores. Pero es necesario realizar una prueba antes de confirmar."
   ]
  },
  {
   "cell_type": "markdown",
   "metadata": {},
   "source": [
    "# Aprendiendo sobre ijson\n",
    "No voy a borrar esta sección del código para que veas cómo descubrí la biblioteca y aprendí a usarla y aplicarla en el tiempo estipulado."
   ]
  },
  {
   "cell_type": "markdown",
   "metadata": {},
   "source": [
    " La biblioteca ijson es una herramienta de Python para el procesamiento incremental de JSON (JavaScript Object Notation), diseñada para manejar archivos JSON grandes de manera eficiente y con un uso eficiente de la memoria. En lugar de cargar el archivo JSON completo en la memoria, ijson permite iterar sobre el contenido del archivo línea por línea, procesando solo pequeños fragmentos del JSON en cada ocasión. Esto es especialmente útil para manejar archivos JSON muy grandes que no caben en la memoria disponible.\n",
    "\n",
    "Con ijson, puedes especificar rutas (claves de diccionario) dentro del JSON para extraer solo los datos necesarios, lo que ayuda a ahorrar aún más memoria y tiempo de procesamiento. Ofrece una forma eficiente de trabajar con JSON de manera incremental, lo cual es crucial en escenarios donde la eficiencia de la memoria y el rendimiento son importantes."
   ]
  },
  {
   "cell_type": "markdown",
   "metadata": {},
   "source": [
    "import ijson\n",
    "from datetime import datetime\n",
    "\n",
    "tweets_by_day = {}\n",
    "tweets_by_day_by_user = {}\n",
    "\n",
    "with open(file_path, 'r') as f:\n",
    "    for l in f:\n",
    "    #    data = ijson.items(l, 'user.username', 'date')\n",
    "    #    for d in data:\n",
    "    #        print(d)\n",
    "    #        count += 1\n",
    "    #        if count == 10:\n",
    "    #            break\n",
    "        parser = ijson.parse(l)\n",
    "        for prefix, datatype, value in parser:\n",
    "            if prefix == 'date':\n",
    "                tweet_date = datetime.strptime(value, '%Y-%m-%dT%H:%M:%S%z').date()\n",
    "                if tweet_date in tweets_by_day:\n",
    "                    tweets_by_day[tweet_date] += 1\n",
    "                else:\n",
    "                    tweets_by_day[tweet_date] = 1\n",
    "            \n",
    "            if prefix == 'user.username':\n",
    "                tweet_user = value\n",
    "                if tweet_date and tweet_user:\n",
    "                    if tweet_date in tweets_by_day_by_user:\n",
    "                        if tweet_user in tweets_by_day_by_user[tweet_date]:\n",
    "                            tweets_by_day_by_user[tweet_date][tweet_user] += 1\n",
    "                        else:\n",
    "                            tweets_by_day_by_user[tweet_date][tweet_user] = 1\n",
    "                    else:\n",
    "                        tweets_by_day_by_user[tweet_date] = {tweet_user: 1}\n",
    "                #print(tweet_date, tweet_user)\n",
    "            #print(f\"Prefix: {prefix},\\nevent: {datatype},\\nvalue: {value}\\n{'-'*10}\")\n",
    "            #break\n",
    "        #break\n",
    "        #count += 1\n",
    "        #if count == 10:\n",
    "        #    break\n",
    "#tweets_by_day_by_user"
   ]
  },
  {
   "cell_type": "markdown",
   "metadata": {},
   "source": [
    "top_users_by_date = []\n",
    "sorted_dates = sorted(tweets_by_day.items(), key=lambda item: item[1], reverse=True)\n",
    "for d in sorted_dates:\n",
    "    max_tweets = 0\n",
    "    for user, tweets in tweets_by_day_by_user[d[0]].items():\n",
    "        if tweets > max_tweets:\n",
    "            max_tweets = tweets\n",
    "            top_user = user\n",
    "    top_users_by_date.append((d[0], top_user))\n",
    "\n",
    "top_users_by_date[:10]"
   ]
  }
 ],
 "metadata": {
  "kernelspec": {
   "display_name": "base",
   "language": "python",
   "name": "python3"
  },
  "language_info": {
   "codemirror_mode": {
    "name": "ipython",
    "version": 3
   },
   "file_extension": ".py",
   "mimetype": "text/x-python",
   "name": "python",
   "nbconvert_exporter": "python",
   "pygments_lexer": "ipython3",
   "version": "3.9.13"
  },
  "orig_nbformat": 4
 },
 "nbformat": 4,
 "nbformat_minor": 2
}
