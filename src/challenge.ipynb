{
 "cells": [
  {
   "cell_type": "markdown",
   "metadata": {},
   "source": [
    "En este archivo puedes escribir lo que estimes conveniente. Te recomendamos detallar tu solución y todas las suposiciones que estás considerando. Aquí puedes ejecutar las funciones que definiste en los otros archivos de la carpeta src, medir el tiempo, memoria, etc."
   ]
  },
  {
   "cell_type": "code",
   "execution_count": 1,
   "metadata": {},
   "outputs": [],
   "source": [
    "# Space to import all libs necessaries\n",
    "import cProfile\n",
    "import os\n",
    "from memory_profiler import memory_usage\n",
    "from q1_time import q1_time\n",
    "from q1_memory import q1_memory\n",
    "from q2_time import q2_time\n",
    "from q2_memory import q2_memory\n",
    "from q3_time import q3_time\n",
    "from q3_memory import q3_memory\n",
    "\n",
    "# Custom functions\n",
    "import functions"
   ]
  },
  {
   "cell_type": "markdown",
   "metadata": {},
   "source": [
    "# download file from google drive"
   ]
  },
  {
   "cell_type": "code",
   "execution_count": 3,
   "metadata": {},
   "outputs": [],
   "source": [
    "file_name = \"farmers-protest-tweets-2021-2-4.json\"\n",
    "file_path = f\"files/{file_name}\""
   ]
  },
  {
   "cell_type": "code",
   "execution_count": 3,
   "metadata": {},
   "outputs": [],
   "source": [
    "if not os.path.exists(file_path):\n",
    "    # URL of the ZIP file hosted on Google Drive\n",
    "    url = 'https://drive.usercontent.google.com/download?id=1ig2ngoXFTxP5Pa8muXo02mDTFexZzsis&export=download&authuser=0&confirm=t&uuid=fd997cbf-ccdd-4e37-a53d-2b46ed1de3ae&at=APZUnTW5jfpb41xGjhafvdL1BkT8%3A1710960678452'\n",
    "    \n",
    "    # download json from gdrive\n",
    "    functions.gdrive_download(url, 'files')"
   ]
  },
  {
   "cell_type": "markdown",
   "metadata": {},
   "source": [
    "# Q1"
   ]
  },
  {
   "cell_type": "markdown",
   "metadata": {},
   "source": [
    "## Q1 time"
   ]
  },
  {
   "cell_type": "code",
   "execution_count": 4,
   "metadata": {},
   "outputs": [
    {
     "data": {
      "text/plain": [
       "[(datetime.date(2021, 2, 12), 'RanbirS00614606'),\n",
       " (datetime.date(2021, 2, 13), 'MaanDee08215437'),\n",
       " (datetime.date(2021, 2, 17), 'RaaJVinderkaur'),\n",
       " (datetime.date(2021, 2, 16), 'jot__b'),\n",
       " (datetime.date(2021, 2, 14), 'rebelpacifist'),\n",
       " (datetime.date(2021, 2, 18), 'neetuanjle_nitu'),\n",
       " (datetime.date(2021, 2, 15), 'jot__b'),\n",
       " (datetime.date(2021, 2, 20), 'MangalJ23056160'),\n",
       " (datetime.date(2021, 2, 23), 'Surrypuria'),\n",
       " (datetime.date(2021, 2, 19), 'Preetm91')]"
      ]
     },
     "execution_count": 4,
     "metadata": {},
     "output_type": "execute_result"
    }
   ],
   "source": [
    "q1_time(file_path)"
   ]
  },
  {
   "cell_type": "code",
   "execution_count": 5,
   "metadata": {},
   "outputs": [
    {
     "name": "stdout",
     "output_type": "stream",
     "text": [
      "         4561067 function calls in 12.122 seconds\n",
      "\n",
      "   Ordered by: standard name\n",
      "\n",
      "   ncalls  tottime  percall  cumtime  percall filename:lineno(function)\n",
      "        1    0.001    0.001   12.122   12.122 <string>:1(<module>)\n",
      "   117407    0.210    0.000    5.188    0.000 __init__.py:299(loads)\n",
      "   117407    0.095    0.000    0.850    0.000 _strptime.py:26(_getlang)\n",
      "   117407    2.204    0.000    3.750    0.000 _strptime.py:309(_strptime)\n",
      "   117407    0.506    0.000    4.256    0.000 _strptime.py:565(_strptime_datetime)\n",
      "        1    0.000    0.000    0.000    0.000 codecs.py:260(__init__)\n",
      "        1    0.000    0.000    0.000    0.000 codecs.py:309(__init__)\n",
      "    49772    0.077    0.000    0.190    0.000 codecs.py:319(decode)\n",
      "   117407    0.325    0.000    4.915    0.000 decoder.py:332(decode)\n",
      "   117407    4.349    0.000    4.349    0.000 decoder.py:343(raw_decode)\n",
      "   117407    0.170    0.000    0.234    0.000 locale.py:386(normalize)\n",
      "   117407    0.091    0.000    0.326    0.000 locale.py:469(_parse_localename)\n",
      "   117407    0.126    0.000    0.755    0.000 locale.py:577(getlocale)\n",
      "       13    0.000    0.000    0.000    0.000 q1_time.py:18(<lambda>)\n",
      "       13    0.000    0.000    0.000    0.000 q1_time.py:35(<lambda>)\n",
      "        1    0.000    0.000    0.000    0.000 q1_time.py:35(<listcomp>)\n",
      "        1    2.302    2.302   12.121   12.121 q1_time.py:6(q1_time)\n",
      "    49772    0.113    0.000    0.113    0.000 {built-in method _codecs.utf_8_decode}\n",
      "   117407    0.303    0.000    0.303    0.000 {built-in method _locale.setlocale}\n",
      "        1    0.000    0.000   12.122   12.122 {built-in method builtins.exec}\n",
      "   352221    0.050    0.000    0.050    0.000 {built-in method builtins.isinstance}\n",
      "   587035    0.087    0.000    0.087    0.000 {built-in method builtins.len}\n",
      "       10    0.003    0.000    0.003    0.000 {built-in method builtins.max}\n",
      "        1    0.000    0.000    0.000    0.000 {built-in method builtins.sorted}\n",
      "        1    0.002    0.002    0.002    0.002 {built-in method io.open}\n",
      "   117407    0.155    0.000    4.411    0.000 {built-in method strptime}\n",
      "        1    0.000    0.000    0.000    0.000 {method '__exit__' of '_io._IOBase' objects}\n",
      "   117407    0.032    0.000    0.032    0.000 {method '__exit__' of '_thread.lock' objects}\n",
      "       10    0.000    0.000    0.000    0.000 {method 'append' of 'list' objects}\n",
      "   117407    0.025    0.000    0.025    0.000 {method 'date' of 'datetime.datetime' objects}\n",
      "        1    0.000    0.000    0.000    0.000 {method 'disable' of '_lsprof.Profiler' objects}\n",
      "   352221    0.065    0.000    0.065    0.000 {method 'end' of 're.Match' objects}\n",
      "   352221    0.086    0.000    0.086    0.000 {method 'get' of 'dict' objects}\n",
      "   117407    0.160    0.000    0.160    0.000 {method 'groupdict' of 're.Match' objects}\n",
      "        1    0.000    0.000    0.000    0.000 {method 'items' of 'dict' objects}\n",
      "   117407    0.028    0.000    0.028    0.000 {method 'keys' of 'dict' objects}\n",
      "   117407    0.028    0.000    0.028    0.000 {method 'lower' of 'str' objects}\n",
      "   352221    0.380    0.000    0.380    0.000 {method 'match' of 're.Pattern' objects}\n",
      "   234814    0.086    0.000    0.086    0.000 {method 'startswith' of 'str' objects}\n",
      "   234814    0.041    0.000    0.041    0.000 {method 'toordinal' of 'datetime.date' objects}\n",
      "   117407    0.022    0.000    0.022    0.000 {method 'weekday' of 'datetime.date' objects}\n",
      "\n",
      "\n"
     ]
    }
   ],
   "source": [
    "cProfile.run('q1_time(file_path)')"
   ]
  },
  {
   "cell_type": "markdown",
   "metadata": {},
   "source": [
    "## Q1 memory"
   ]
  },
  {
   "cell_type": "code",
   "execution_count": 6,
   "metadata": {},
   "outputs": [
    {
     "data": {
      "text/plain": [
       "[(datetime.date(2021, 2, 12), 'RanbirS00614606'),\n",
       " (datetime.date(2021, 2, 13), 'MaanDee08215437'),\n",
       " (datetime.date(2021, 2, 17), 'RaaJVinderkaur'),\n",
       " (datetime.date(2021, 2, 16), 'jot__b'),\n",
       " (datetime.date(2021, 2, 14), 'rebelpacifist'),\n",
       " (datetime.date(2021, 2, 18), 'neetuanjle_nitu'),\n",
       " (datetime.date(2021, 2, 15), 'jot__b'),\n",
       " (datetime.date(2021, 2, 20), 'MangalJ23056160'),\n",
       " (datetime.date(2021, 2, 23), 'Surrypuria'),\n",
       " (datetime.date(2021, 2, 19), 'Preetm91')]"
      ]
     },
     "execution_count": 6,
     "metadata": {},
     "output_type": "execute_result"
    }
   ],
   "source": [
    "q1_memory(file_path)"
   ]
  },
  {
   "cell_type": "code",
   "execution_count": 7,
   "metadata": {},
   "outputs": [
    {
     "name": "stdout",
     "output_type": "stream",
     "text": [
      "list memory usage in q1_memory (in MB): [75.890625, 75.91015625, 76.171875, 76.578125, 76.67578125, 76.8203125, 76.9140625, 76.92578125, 76.92578125, 76.5625, 76.72265625, 76.74609375, 76.75, 76.80859375, 76.87890625, 76.87890625, 76.8828125, 77.30859375, 77.3203125, 77.32421875, 77.33984375, 77.33984375, 77.33984375, 77.33984375, 77.34765625, 77.3515625, 77.3515625, 77.359375, 77.359375, 77.453125, 77.4921875, 77.49609375, 77.5, 77.5, 77.50390625, 77.50390625, 77.50390625, 77.50390625, 77.50390625, 77.59765625, 77.6328125, 77.67578125, 77.75, 77.7578125, 77.7578125, 77.7578125, 77.7578125, 77.859375, 77.89453125, 77.97265625, 77.97265625, 78.01953125, 78.01953125, 78.01953125, 78.01953125, 78.01953125, 78.01953125, 78.01953125, 78.0234375, 78.09375, 78.1328125, 78.13671875, 78.13671875, 78.27734375, 78.296875, 78.30859375, 78.37109375, 78.4296875, 78.4375, 78.4453125, 78.4453125, 78.45703125, 78.4609375, 78.4609375, 78.4609375, 78.4609375, 78.4609375, 78.4609375, 78.4609375, 78.4609375, 78.4609375, 78.4609375, 78.47265625, 78.60546875, 78.75, 78.75, 78.75, 78.8125, 78.83984375, 77.0625]\n",
      "sum memory usage in q1_memory (in MB): 6994.25390625\n",
      "list memory usage in q1_time (in MB): [77.0625, 77.0625, 77.19140625, 77.33203125, 77.4140625, 77.4609375, 77.66015625, 77.66015625, 77.67578125, 77.88671875, 77.9765625, 77.9921875, 78.04296875, 78.046875, 78.046875, 78.18359375, 78.18359375, 78.18359375, 78.1875, 78.1875, 78.1875, 78.19140625, 78.19140625, 78.19140625, 78.2734375, 78.3046875, 78.3203125, 78.3203125, 78.40234375, 78.40234375, 78.43359375, 78.43359375, 78.4609375, 78.4609375, 78.4609375, 78.4609375, 78.60546875, 78.60546875, 78.65625, 78.70703125, 78.70703125, 78.70703125, 78.70703125, 78.7109375, 78.7109375, 78.7109375, 76.38671875]\n",
      "sum memory usage in q1_time (in MB): 3672.1484375\n"
     ]
    }
   ],
   "source": [
    "mem_usage = memory_usage((q1_memory, (file_path,)))\n",
    "print('list memory usage in q1_memory (in MB):', mem_usage)\n",
    "print('sum memory usage in q1_memory (in MB):', sum(mem_usage))\n",
    "\n",
    "mem_usage = memory_usage((q1_time, (file_path,)))\n",
    "print('list memory usage in q1_time (in MB):', mem_usage)\n",
    "print('sum memory usage in q1_time (in MB):', sum(mem_usage))"
   ]
  },
  {
   "cell_type": "markdown",
   "metadata": {},
   "source": [
    "Después de analizar el resultado del consumo de memoria, pude ver que usar la biblioteca ijson no trajo tantos beneficios en este caso que probamos con la biblioteca json debido al formato del archivo. Y fíjate que durante todo el proceso utilizamos más memoria para llegar al final de este.\n",
    "\n",
    "La biblioteca ijson se creó para leer un archivo iterando sobre las líneas, pero aquí, debido al formato de archivo disponible, ya necesitaba hacer esto usando la biblioteca json, ya que cada línea del archivo es un elemento json completo, que crea el tipo de archivo de varias líneas.\n",
    "\n",
    "Nota: Intenté usar pandas para analizar los resultados pero siempre me llevó más de 1 minuto.\n",
    "\n",
    "Es posible que ir a la nube y usar spark para el procesamiento distribuido sea más ventajoso y sencillo que aplicar la lógica de las funciones anteriores. Pero es necesario realizar una prueba antes de confirmar."
   ]
  },
  {
   "cell_type": "markdown",
   "metadata": {},
   "source": [
    "# Q2"
   ]
  },
  {
   "cell_type": "markdown",
   "metadata": {},
   "source": [
    "## Q2 time"
   ]
  },
  {
   "cell_type": "code",
   "execution_count": 59,
   "metadata": {},
   "outputs": [
    {
     "data": {
      "text/plain": [
       "[('🙏', 5049),\n",
       " ('😂', 3072),\n",
       " ('🚜', 2972),\n",
       " ('🌾', 2182),\n",
       " ('🇮🇳', 2086),\n",
       " ('🤣', 1668),\n",
       " ('✊', 1651),\n",
       " ('❤️', 1382),\n",
       " ('🙏🏻', 1317),\n",
       " ('💚', 1040)]"
      ]
     },
     "execution_count": 59,
     "metadata": {},
     "output_type": "execute_result"
    }
   ],
   "source": [
    "q2_time(file_path)"
   ]
  },
  {
   "cell_type": "code",
   "execution_count": 60,
   "metadata": {},
   "outputs": [
    {
     "name": "stdout",
     "output_type": "stream",
     "text": [
      "         87063883 function calls in 33.415 seconds\n",
      "\n",
      "   Ordered by: standard name\n",
      "\n",
      "   ncalls  tottime  percall  cumtime  percall filename:lineno(function)\n",
      " 17023302    3.046    0.000    5.416    0.000 <string>:1(<lambda>)\n",
      "        1    0.000    0.000   33.415   33.415 <string>:1(<module>)\n",
      "   117407    0.138    0.000    3.494    0.000 __init__.py:299(loads)\n",
      "        1    0.000    0.000    0.000    0.000 codecs.py:260(__init__)\n",
      "        1    0.000    0.000    0.000    0.000 codecs.py:309(__init__)\n",
      "    49772    0.061    0.000    0.136    0.000 codecs.py:319(decode)\n",
      "   117407    0.101    0.000   28.116    0.000 core.py:283(emoji_list)\n",
      "   117407    5.039    0.000   28.015    0.000 core.py:290(<listcomp>)\n",
      "   117407    0.214    0.000    3.312    0.000 decoder.py:332(decode)\n",
      "   117407    2.927    0.000    2.927    0.000 decoder.py:343(raw_decode)\n",
      "      870    0.000    0.000    0.000    0.000 q2_time.py:29(<lambda>)\n",
      "        1    1.649    1.649   33.415   33.415 q2_time.py:5(q2_time)\n",
      " 17140706   14.982    0.000   21.618    0.000 tokenizer.py:158(tokenize)\n",
      "    42922    0.020    0.000    0.020    0.000 tokenizer.py:29(__init__)\n",
      "   117407    0.017    0.000    0.017    0.000 tokenizer.py:301(get_search_tree)\n",
      " 17023302    2.370    0.000    2.370    0.000 {built-in method __new__ of type object at 0x00007FFE1C83DC60}\n",
      "    49772    0.075    0.000    0.075    0.000 {built-in method _codecs.utf_8_decode}\n",
      "        1    0.000    0.000   33.415   33.415 {built-in method builtins.exec}\n",
      " 17140706    1.367    0.000    1.367    0.000 {built-in method builtins.isinstance}\n",
      "   234817    0.025    0.000    0.025    0.000 {built-in method builtins.len}\n",
      "        1    0.000    0.000    0.000    0.000 {built-in method builtins.sorted}\n",
      "        1    0.001    0.001    0.001    0.001 {built-in method io.open}\n",
      "        1    0.000    0.000    0.000    0.000 {method '__exit__' of '_io._IOBase' objects}\n",
      " 17023305    1.172    0.000    1.172    0.000 {method 'append' of 'list' objects}\n",
      "        1    0.000    0.000    0.000    0.000 {method 'disable' of '_lsprof.Profiler' objects}\n",
      "   234814    0.028    0.000    0.028    0.000 {method 'end' of 're.Match' objects}\n",
      "    42922    0.019    0.000    0.019    0.000 {method 'get' of 'dict' objects}\n",
      "        1    0.000    0.000    0.000    0.000 {method 'items' of 'dict' objects}\n",
      "   234814    0.130    0.000    0.130    0.000 {method 'match' of 're.Pattern' objects}\n",
      "   117407    0.035    0.000    0.035    0.000 {method 'startswith' of 'str' objects}\n",
      "\n",
      "\n"
     ]
    }
   ],
   "source": [
    "cProfile.run('q2_time(file_path)')"
   ]
  },
  {
   "cell_type": "markdown",
   "metadata": {},
   "source": [
    "## Q2 memory"
   ]
  },
  {
   "cell_type": "code",
   "execution_count": 82,
   "metadata": {},
   "outputs": [
    {
     "data": {
      "text/plain": [
       "[('🙏', 5049),\n",
       " ('😂', 3072),\n",
       " ('🚜', 2972),\n",
       " ('🌾', 2182),\n",
       " ('🇮🇳', 2086),\n",
       " ('🤣', 1668),\n",
       " ('✊', 1651),\n",
       " ('❤️', 1382),\n",
       " ('🙏🏻', 1317),\n",
       " ('💚', 1040)]"
      ]
     },
     "execution_count": 82,
     "metadata": {},
     "output_type": "execute_result"
    }
   ],
   "source": [
    "q2_memory(file_path)"
   ]
  },
  {
   "cell_type": "code",
   "execution_count": 61,
   "metadata": {},
   "outputs": [
    {
     "name": "stdout",
     "output_type": "stream",
     "text": [
      "list memory usage in q2_time (in MB): [65.66796875, 65.8984375, 65.8984375, 65.8984375, 65.8984375, 65.8984375, 65.8984375, 65.8984375, 65.8984375, 65.8984375, 65.8984375, 65.8984375, 65.8984375, 65.8984375, 65.8984375, 65.8984375, 65.8984375, 65.8984375, 65.8984375, 65.8984375, 65.8984375, 65.8984375, 65.8984375, 65.8984375, 65.8984375, 65.8984375, 65.8984375, 65.8984375, 65.8984375, 65.8984375, 65.8984375, 65.8984375, 65.8984375, 65.8984375, 65.8984375, 65.8984375, 65.8984375, 65.8984375, 65.8984375, 65.8984375, 65.8984375, 65.8984375, 65.8984375, 65.8984375, 65.8984375, 65.8984375, 65.8984375, 65.8984375, 65.8984375, 65.8984375, 65.8984375, 65.8984375, 65.8984375, 65.8984375, 65.8984375, 65.8984375, 65.8984375, 65.8984375, 65.8984375, 65.8984375, 65.8984375, 65.8984375, 65.8984375, 65.8984375, 65.8984375, 65.8984375, 65.8984375, 65.8984375, 65.8984375, 65.8984375, 65.8984375, 65.8984375, 65.8984375, 65.8984375, 65.8984375, 65.8984375, 65.8984375, 65.8984375, 65.8984375, 65.8984375, 65.8984375, 65.8984375, 65.8984375, 65.8984375, 65.8984375, 65.8984375, 65.8984375, 65.8984375, 65.8984375, 65.8984375, 65.8984375, 65.8984375, 65.8984375, 65.8984375, 65.8984375, 65.8984375, 65.8984375, 65.8984375, 65.8984375, 65.8984375, 65.8984375, 65.8984375, 65.8984375, 65.8984375, 65.8984375, 65.8984375, 65.8984375, 65.8984375, 65.8984375, 65.8984375, 65.8984375, 65.8984375, 65.8984375, 65.8984375, 65.8984375, 65.8984375, 65.8984375, 65.8984375, 65.8984375, 65.8984375, 65.8984375, 65.8984375, 65.8984375, 65.8984375, 65.8984375, 65.8984375, 65.8984375, 65.8984375, 65.8984375, 65.8984375, 65.8984375, 65.8984375, 65.8984375, 65.8984375, 65.90234375, 65.90234375, 65.90234375, 65.90234375, 65.90234375, 65.90234375, 65.90234375, 65.90234375, 65.90234375, 65.90234375, 65.90234375, 65.90234375, 65.90234375, 65.90234375, 65.90234375, 65.90234375, 65.90234375, 65.90234375, 65.90234375, 65.90234375, 65.90234375, 65.90234375, 65.90234375, 65.90234375, 65.90234375, 65.90234375, 65.90234375, 65.90234375, 65.90234375, 65.90234375, 65.90234375, 65.90234375, 65.90234375, 65.90234375, 65.90234375, 65.90234375, 65.90234375, 65.90234375]\n",
      "sum memory usage in q2_time (in MB): 11334.44921875\n"
     ]
    }
   ],
   "source": [
    "mem_usage = memory_usage((q2_time, (file_path,)))\n",
    "print('list memory usage in q2_time (in MB):', mem_usage)\n",
    "print('sum memory usage in q2_time (in MB):', sum(mem_usage))\n",
    "\n",
    "mem_usage = memory_usage((q2_memory, (file_path,)))\n",
    "print('list memory usage in q2_memory (in MB):', mem_usage)\n",
    "print('sum memory usage in q2_memory (in MB):', sum(mem_usage))"
   ]
  },
  {
   "cell_type": "markdown",
   "metadata": {},
   "source": [
    "# Q3"
   ]
  },
  {
   "cell_type": "markdown",
   "metadata": {},
   "source": [
    "## Q3 time"
   ]
  },
  {
   "cell_type": "code",
   "execution_count": 6,
   "metadata": {},
   "outputs": [
    {
     "data": {
      "text/plain": [
       "[('narendramodi', 2222),\n",
       " ('Kisanektamorcha', 1823),\n",
       " ('RakeshTikaitBKU', 1608),\n",
       " ('PMOIndia', 1406),\n",
       " ('RahulGandhi', 1099),\n",
       " ('GretaThunberg', 1012),\n",
       " ('RaviSinghKA', 1006),\n",
       " ('UNHumanRights', 956),\n",
       " ('rihanna', 952),\n",
       " ('meenaharris', 913)]"
      ]
     },
     "execution_count": 6,
     "metadata": {},
     "output_type": "execute_result"
    }
   ],
   "source": [
    "q3_time(file_path)"
   ]
  },
  {
   "cell_type": "code",
   "execution_count": 7,
   "metadata": {},
   "outputs": [
    {
     "name": "stdout",
     "output_type": "stream",
     "text": [
      "         3615553 function calls in 5.955 seconds\n",
      "\n",
      "   Ordered by: standard name\n",
      "\n",
      "   ncalls  tottime  percall  cumtime  percall filename:lineno(function)\n",
      "        1    0.000    0.000    5.955    5.955 <string>:1(<module>)\n",
      "   117407    0.138    0.000    3.461    0.000 __init__.py:299(loads)\n",
      "        1    0.000    0.000    0.000    0.000 codecs.py:260(__init__)\n",
      "        1    0.000    0.000    0.000    0.000 codecs.py:309(__init__)\n",
      "    49772    0.043    0.000    0.115    0.000 codecs.py:319(decode)\n",
      "   117407    0.208    0.000    3.286    0.000 decoder.py:332(decode)\n",
      "   117407    2.922    0.000    2.922    0.000 decoder.py:343(raw_decode)\n",
      "    15669    0.001    0.000    0.001    0.000 q3_time.py:33(<lambda>)\n",
      "        1    1.811    1.811    5.955    5.955 q3_time.py:4(q3_time)\n",
      "    49772    0.072    0.000    0.072    0.000 {built-in method _codecs.utf_8_decode}\n",
      "        1    0.000    0.000    5.955    5.955 {built-in method builtins.exec}\n",
      "   117407    0.012    0.000    0.012    0.000 {built-in method builtins.isinstance}\n",
      "   117407    0.014    0.000    0.014    0.000 {built-in method builtins.len}\n",
      "        1    0.004    0.004    0.005    0.005 {built-in method builtins.sorted}\n",
      "        1    0.001    0.001    0.001    0.001 {built-in method io.open}\n",
      "        1    0.000    0.000    0.000    0.000 {method '__exit__' of '_io._IOBase' objects}\n",
      "        1    0.000    0.000    0.000    0.000 {method 'disable' of '_lsprof.Profiler' objects}\n",
      "   234814    0.028    0.000    0.028    0.000 {method 'end' of 're.Match' objects}\n",
      "   103212    0.053    0.000    0.053    0.000 {method 'get' of 'dict' objects}\n",
      "        1    0.000    0.000    0.000    0.000 {method 'items' of 'dict' objects}\n",
      "   234814    0.115    0.000    0.115    0.000 {method 'match' of 're.Pattern' objects}\n",
      "   117407    0.193    0.000    0.193    0.000 {method 'split' of 'str' objects}\n",
      "  2119836    0.321    0.000    0.321    0.000 {method 'startswith' of 'str' objects}\n",
      "   103212    0.021    0.000    0.021    0.000 {method 'strip' of 'str' objects}\n",
      "\n",
      "\n"
     ]
    }
   ],
   "source": [
    "cProfile.run('q3_time(file_path)')"
   ]
  },
  {
   "cell_type": "markdown",
   "metadata": {},
   "source": [
    "## Q3 memory"
   ]
  },
  {
   "cell_type": "code",
   "execution_count": 5,
   "metadata": {},
   "outputs": [
    {
     "data": {
      "text/plain": [
       "[('narendramodi', 2222),\n",
       " ('Kisanektamorcha', 1823),\n",
       " ('RakeshTikaitBKU', 1608),\n",
       " ('PMOIndia', 1406),\n",
       " ('RahulGandhi', 1099),\n",
       " ('GretaThunberg', 1012),\n",
       " ('RaviSinghKA', 1006),\n",
       " ('UNHumanRights', 956),\n",
       " ('rihanna', 952),\n",
       " ('meenaharris', 913)]"
      ]
     },
     "execution_count": 5,
     "metadata": {},
     "output_type": "execute_result"
    }
   ],
   "source": [
    "q3_memory(file_path)"
   ]
  },
  {
   "cell_type": "code",
   "execution_count": 4,
   "metadata": {},
   "outputs": [
    {
     "name": "stdout",
     "output_type": "stream",
     "text": [
      "list memory usage in q3_time (in MB): [81.59765625, 81.671875, 82.171875, 82.48828125, 82.4921875, 82.625, 82.703125, 83.00390625, 83.08984375, 83.125, 83.1953125, 83.2109375, 83.28515625, 83.28515625, 83.28515625, 83.34765625, 83.4609375, 83.46484375, 83.52734375, 83.52734375, 83.52734375, 83.53515625, 83.55859375, 83.58984375, 83.66015625, 83.66015625, 83.66015625, 83.66015625, 83.72265625, 84.34765625, 84.35546875, 84.41796875, 84.41796875, 84.4296875, 84.4296875, 84.44921875, 84.48046875, 84.54296875, 84.546875, 84.546875, 84.609375, 84.609375, 84.609375, 84.67578125, 84.86328125]\n",
      "sum memory usage in q3_time (in MB): 3763.46484375\n",
      "list memory usage in q3_memory (in MB): [84.8671875, 84.8671875, 84.94140625, 85.0078125, 84.265625, 84.32421875, 84.38671875, 84.41015625, 84.4765625, 84.765625, 84.796875, 84.796875, 84.890625, 84.890625, 85.0, 85.0, 85.0, 85.05078125, 85.08984375, 85.08984375, 85.08984375, 85.08984375, 85.65625, 85.65625, 85.65625, 85.65625, 85.65625, 85.65234375, 85.65234375, 85.65234375, 85.65234375, 85.65234375, 85.65234375, 85.65234375, 85.65234375, 84.5234375]\n",
      "sum memory usage in q3_memory (in MB): 3064.12109375\n"
     ]
    }
   ],
   "source": [
    "mem_usage = memory_usage((q3_time, (file_path,)))\n",
    "print('list memory usage in q3_time (in MB):', mem_usage)\n",
    "print('sum memory usage in q3_time (in MB):', sum(mem_usage))\n",
    "\n",
    "mem_usage = memory_usage((q3_memory, (file_path,)))\n",
    "print('list memory usage in q3_memory (in MB):', mem_usage)\n",
    "print('sum memory usage in q3_memory (in MB):', sum(mem_usage))"
   ]
  },
  {
   "cell_type": "markdown",
   "metadata": {},
   "source": [
    "# Lecciones aprendidas"
   ]
  },
  {
   "cell_type": "markdown",
   "metadata": {},
   "source": [
    "## Aprendiendo sobre ijson\n",
    "No voy a borrar esta sección del código para que veas cómo descubrí la biblioteca y aprendí a usarla y aplicarla en el tiempo estipulado."
   ]
  },
  {
   "cell_type": "markdown",
   "metadata": {},
   "source": [
    " La biblioteca ijson es una herramienta de Python para el procesamiento incremental de JSON (JavaScript Object Notation), diseñada para manejar archivos JSON grandes de manera eficiente y con un uso eficiente de la memoria. En lugar de cargar el archivo JSON completo en la memoria, ijson permite iterar sobre el contenido del archivo línea por línea, procesando solo pequeños fragmentos del JSON en cada ocasión. Esto es especialmente útil para manejar archivos JSON muy grandes que no caben en la memoria disponible.\n",
    "\n",
    "Con ijson, puedes especificar rutas (claves de diccionario) dentro del JSON para extraer solo los datos necesarios, lo que ayuda a ahorrar aún más memoria y tiempo de procesamiento. Ofrece una forma eficiente de trabajar con JSON de manera incremental, lo cual es crucial en escenarios donde la eficiencia de la memoria y el rendimiento son importantes."
   ]
  },
  {
   "cell_type": "markdown",
   "metadata": {},
   "source": [
    "import ijson\n",
    "from datetime import datetime\n",
    "\n",
    "tweets_by_day = {}\n",
    "tweets_by_day_by_user = {}\n",
    "\n",
    "with open(file_path, 'r') as f:\n",
    "    for l in f:\n",
    "    #    data = ijson.items(l, 'user.username', 'date')\n",
    "    #    for d in data:\n",
    "    #        print(d)\n",
    "    #        count += 1\n",
    "    #        if count == 10:\n",
    "    #            break\n",
    "        parser = ijson.parse(l)\n",
    "        for prefix, datatype, value in parser:\n",
    "            if prefix == 'date':\n",
    "                tweet_date = datetime.strptime(value, '%Y-%m-%dT%H:%M:%S%z').date()\n",
    "                if tweet_date in tweets_by_day:\n",
    "                    tweets_by_day[tweet_date] += 1\n",
    "                else:\n",
    "                    tweets_by_day[tweet_date] = 1\n",
    "            \n",
    "            if prefix == 'user.username':\n",
    "                tweet_user = value\n",
    "                if tweet_date and tweet_user:\n",
    "                    if tweet_date in tweets_by_day_by_user:\n",
    "                        if tweet_user in tweets_by_day_by_user[tweet_date]:\n",
    "                            tweets_by_day_by_user[tweet_date][tweet_user] += 1\n",
    "                        else:\n",
    "                            tweets_by_day_by_user[tweet_date][tweet_user] = 1\n",
    "                    else:\n",
    "                        tweets_by_day_by_user[tweet_date] = {tweet_user: 1}\n",
    "                #print(tweet_date, tweet_user)\n",
    "            #print(f\"Prefix: {prefix},\\nevent: {datatype},\\nvalue: {value}\\n{'-'*10}\")\n",
    "            #break\n",
    "        #break\n",
    "        #count += 1\n",
    "        #if count == 10:\n",
    "        #    break\n",
    "#tweets_by_day_by_user"
   ]
  },
  {
   "cell_type": "markdown",
   "metadata": {},
   "source": [
    "top_users_by_date = []\n",
    "sorted_dates = sorted(tweets_by_day.items(), key=lambda item: item[1], reverse=True)\n",
    "for d in sorted_dates:\n",
    "    max_tweets = 0\n",
    "    for user, tweets in tweets_by_day_by_user[d[0]].items():\n",
    "        if tweets > max_tweets:\n",
    "            max_tweets = tweets\n",
    "            top_user = user\n",
    "    top_users_by_date.append((d[0], top_user))\n",
    "\n",
    "top_users_by_date[:10]"
   ]
  },
  {
   "cell_type": "markdown",
   "metadata": {},
   "source": [
    "Después de descubrir que la biblioteca ijson no mejoraría el consumo de memoria, asigné las mismas funciones a tiempo y memoria ya que el consumo de memoria estaba bien."
   ]
  }
 ],
 "metadata": {
  "kernelspec": {
   "display_name": "base",
   "language": "python",
   "name": "python3"
  },
  "language_info": {
   "codemirror_mode": {
    "name": "ipython",
    "version": 3
   },
   "file_extension": ".py",
   "mimetype": "text/x-python",
   "name": "python",
   "nbconvert_exporter": "python",
   "pygments_lexer": "ipython3",
   "version": "3.9.13"
  },
  "orig_nbformat": 4
 },
 "nbformat": 4,
 "nbformat_minor": 2
}
